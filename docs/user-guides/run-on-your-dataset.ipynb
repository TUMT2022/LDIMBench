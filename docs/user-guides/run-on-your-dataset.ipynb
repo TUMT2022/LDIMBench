{
 "cells": [
  {
   "attachments": {},
   "cell_type": "markdown",
   "metadata": {},
   "source": [
    "# How to run the benchmark on your own dataset?"
   ]
  },
  {
   "attachments": {},
   "cell_type": "markdown",
   "metadata": {},
   "source": [
    "Create a folder as specified in the [Datasets Section](/docs/design/datasets.md).\n",
    "Then simply import your dataset using the `Dataset` class. \n",
    "The validations will be run on demand so make sure you load the dataset to check if it works:\n"
   ]
  },
  {
   "cell_type": "code",
   "execution_count": null,
   "metadata": {},
   "outputs": [],
   "source": [
    "from ldimbenchmark.datasets import Dataset\n",
    "\n",
    "your_dataset = Dataset(\"path/to/your/dataset\")\n",
    "your_dataset.loadDataset().loadBenchmarkData()\n"
   ]
  }
 ],
 "metadata": {
  "language_info": {
   "name": "python"
  },
  "orig_nbformat": 4
 },
 "nbformat": 4,
 "nbformat_minor": 2
}
