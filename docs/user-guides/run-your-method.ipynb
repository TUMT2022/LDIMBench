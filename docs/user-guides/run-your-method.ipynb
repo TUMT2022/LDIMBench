{
  "cells": [
    {
      "attachments": {},
      "cell_type": "markdown",
      "metadata": {},
      "source": [
        "# How to benchmark your own leakage detection method?\n",
        "\n",
        "You can try this tutorial on [Google Colab](https://colab.research.google.com/github/TUMT2022/LDIMBench/blob/main/docs/user-guides/run-your-method.ipynb)!\n",
        "\n",
        "This guide will show you how to develop your own leakage detection method (in python, there are [other options](/docs/user-guides/docker.md) as well!) and benchmark it against the other methods in the benchmark suite."
      ]
    },
    {
      "attachments": {},
      "cell_type": "markdown",
      "metadata": {},
      "source": [
        "First install the package:"
      ]
    },
    {
      "cell_type": "code",
      "execution_count": null,
      "metadata": {},
      "outputs": [],
      "source": [
        "# Run this in Google Colab:\n",
        "!pip install ldimbenchmark"
      ]
    },
    {
      "attachments": {},
      "cell_type": "markdown",
      "metadata": {},
      "source": [
        "Define your Leakage Detection Method (here you can read more about the [programming interface](/docs/design/programming-interface.md)):\n"
      ]
    },
    {
      "cell_type": "code",
      "execution_count": null,
      "metadata": {},
      "outputs": [
        {
          "ename": "",
          "evalue": "",
          "output_type": "error",
          "traceback": [
            "\u001b[1;31mRunning cells with '/bin/python3.10' requires ipykernel package.\n",
            "\u001b[1;31mRun the following command to install 'ipykernel' into the Python environment. \n",
            "\u001b[1;31mCommand: '/bin/python3.10 -m pip install ipykernel -U --user --force-reinstall'"
          ]
        }
      ],
      "source": [
        "from ldimbenchmark import LDIMMethodBase, BenchmarkData, BenchmarkLeakageResult\n",
        "from ldimbenchmark.classes import MethodMetadata, Hyperparameter\n",
        "from typing import List\n",
        "\n",
        "# Your method should inherit from LDIMMethodBase\n",
        "# It should implement all abstract methods\n",
        "class MyNewLeakageDetectionMethod(LDIMMethodBase):\n",
        "    \"\"\"\n",
        "    MyNewLeakageDetectionMethod\n",
        "    \"\"\"\n",
        "\n",
        "    def __init__(self):\n",
        "        # Provide information about your method in the super call\n",
        "        super().__init__(\n",
        "            name=\"NEWMETHOD\",\n",
        "            version=\"1.0\",\n",
        "            metadata=MethodMetadata(\n",
        "                data_needed=[\"pressures\", \"demands\", \"flows\", \"levels\"],\n",
        "                hyperparameters=[\n",
        "                    Hyperparameter(\n",
        "                        name=\"random\",\n",
        "                        description=\"The Random percentage of detecing a leakage\",\n",
        "                        default=0.5,\n",
        "                        max=1.0,\n",
        "                        min=0.0,\n",
        "                        type=float,\n",
        "                    ),\n",
        "                ],\n",
        "            )\n",
        "        )\n",
        "\n",
        "    def train(self, train_data: BenchmarkData) -> None:\n",
        "        return\n",
        "\n",
        "    def detect(self, evaluation_data: BenchmarkData) -> List[BenchmarkLeakageResult]:\n",
        "        return []\n",
        "\n",
        "    def detect_datapoint(self, evaluation_data) -> BenchmarkLeakageResult:\n",
        "        return None\n"
      ]
    },
    {
      "attachments": {},
      "cell_type": "markdown",
      "metadata": {},
      "source": [
        "To test your method we need a dataset. We provide a few datasets in the [datasets namespace](#). You can also use your own dataset (see [run on your dataset guide](/docs/user-guides/run-on-your-dataset.ipynb))."
      ]
    },
    {
      "cell_type": "code",
      "execution_count": null,
      "metadata": {},
      "outputs": [],
      "source": [
        "from ldimbenchmark.datasets import Dataset, DatasetLibrary, DATASETS\n",
        "\n",
        "datasets = DatasetLibrary(\"datasets\").download(DATASETS.BATTLEDIM)"
      ]
    },
    {
      "attachments": {},
      "cell_type": "markdown",
      "metadata": {},
      "source": [
        "We can now define the Benchmark and its parameters:"
      ]
    },
    {
      "cell_type": "code",
      "execution_count": null,
      "metadata": {},
      "outputs": [],
      "source": [
        "from ldimbenchmark import LDIMBenchmark\n",
        "\n",
        "hyperparameters = {\n",
        "    \"NEWMETHOD\": {\n",
        "        \"battledim\": {\n",
        "            \"random\": 0.1,\n",
        "        }\n",
        "    }\n",
        "}\n",
        "\n",
        "benchmark = LDIMBenchmark(\n",
        "    hyperparameters,\n",
        "    datasets,\n",
        "    results_dir=\"./benchmark-results\",\n",
        "    debug=True,\n",
        ")\n",
        "benchmark.add_local_methods([MyNewLeakageDetectionMethod()])"
      ]
    },
    {
      "attachments": {},
      "cell_type": "markdown",
      "metadata": {},
      "source": [
        "Finally we can run and evaluate the benchmark:"
      ]
    },
    {
      "cell_type": "code",
      "execution_count": null,
      "metadata": {},
      "outputs": [],
      "source": [
        "# execute benchmark\n",
        "benchmark.run_benchmark()\n",
        "\n",
        "benchmark.evaluate()"
      ]
    }
  ],
  "metadata": {
    "kernelspec": {
      "display_name": "Python 3",
      "language": "python",
      "name": "python3"
    },
    "language_info": {
      "name": "python",
      "version": "3.10.9 (main, Dec  7 2022, 01:12:00) [GCC 9.4.0]"
    },
    "orig_nbformat": 4,
    "vscode": {
      "interpreter": {
        "hash": "97cc609b13305c559618ec78a438abc56230b9381f827f22d070313b9a1f3777"
      }
    }
  },
  "nbformat": 4,
  "nbformat_minor": 2
}
