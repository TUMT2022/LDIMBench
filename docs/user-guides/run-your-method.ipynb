{
 "cells": [
  {
   "attachments": {},
   "cell_type": "markdown",
   "metadata": {},
   "source": [
    "# How to benchmark your own leakage detection method?\n",
    "\n",
    "You can try this tutorial on [Google Colab](https://colab.research.google.com/github/TUMT2022/LDIMBench/blob/main/docs/user-guides/run-your-method.ipynb)!\n",
    "\n",
    "This guide will show you how to develop your own leakage detection method (in python, there are [other options](/docs/user-guides/docker.md) as well!) and benchmark it against the other methods in the benchmark suite."
   ]
  },
  {
   "cell_type": "code",
   "execution_count": null,
   "metadata": {},
   "outputs": [],
   "source": [
    "from ldimbenchmark import LDIMMethodBase, BenchmarkData, BenchmarkLeakageResult\n",
    "from ldimbenchmark.classes import MethodMetadata, Hyperparameter\n",
    "\n",
    "# Your method should inherit from LDIMMethodBase\n",
    "# It should implement all abstract methods\n",
    "class MyNewLeakageDetectionMethod(LDIMMethodBase):\n",
    "    \"\"\"\n",
    "    MyNewLeakageDetectionMethod\n",
    "    \"\"\"\n",
    "\n",
    "    def __init__(self):\n",
    "        # Provide information about your method in the super call\n",
    "        super().__init__(\n",
    "            name=\"NEWMETHOD\",\n",
    "            version=\"1.0\",\n",
    "            metadata=MethodMetadata(\n",
    "                data_needed=[\"pressures\", \"demands\", \"flows\", \"levels\"],\n",
    "                hyperparameters=[\n",
    "                    Hyperparameter(\n",
    "                        name=\"random\",\n",
    "                        description=\"The Random percentage of detecing a leakage\",\n",
    "                        default=0.5,\n",
    "                        max=1.0,\n",
    "                        min=0.0,\n",
    "                        type=float,\n",
    "                    ),\n",
    "                ],\n",
    "            )\n",
    "        )\n",
    "\n",
    "    def train(self, train_data: BenchmarkData) -> None:\n",
    "        return\n",
    "\n",
    "    def detect(self, evaluation_data: BenchmarkData) -> list[BenchmarkLeakageResult]:\n",
    "        return []\n",
    "\n",
    "    def detect_datapoint(self, evaluation_data) -> BenchmarkLeakageResult:\n",
    "        return None\n"
   ]
  },
  {
   "cell_type": "code",
   "execution_count": null,
   "metadata": {},
   "outputs": [],
   "source": [
    "from ldimbenchmark import LDIMBenchmark\n",
    "from ldimbenchmark.datasets import Dataset, DatasetLibrary, DATASETS\n",
    "\n",
    "datasets = DatasetLibrary(\"datasets\").download(DATASETS.BATTLEDIM)\n",
    "\n",
    "hyperparameters = {\n",
    "    \"NEWMETHOD\": {\n",
    "        \"battledim\": {\n",
    "            \"random\": 0.1,\n",
    "        }\n",
    "    }\n",
    "}\n",
    "\n",
    "benchmark = LDIMBenchmark(\n",
    "    hyperparameters,\n",
    "    datasets,\n",
    "    results_dir=\"./benchmark-results\",\n",
    "    debug=True,\n",
    ")\n",
    "benchmark.add_local_methods([MyNewLeakageDetectionMethod()])\n",
    "\n",
    "# execute benchmark\n",
    "benchmark.run_benchmark()\n",
    "\n",
    "benchmark.evaluate()"
   ]
  }
 ],
 "metadata": {
  "language_info": {
   "name": "python"
  },
  "orig_nbformat": 4
 },
 "nbformat": 4,
 "nbformat_minor": 2
}
